{
 "metadata": {
  "name": "",
  "signature": "sha256:dc0c407f134bc57bd7621d66a2638c129966b11c3ed8a2de769bf4eba9bc17bf"
 },
 "nbformat": 3,
 "nbformat_minor": 0,
 "worksheets": [
  {
   "cells": [
    {
     "cell_type": "code",
     "collapsed": false,
     "input": [
      "import copy"
     ],
     "language": "python",
     "metadata": {},
     "outputs": [],
     "prompt_number": 1
    },
    {
     "cell_type": "code",
     "collapsed": false,
     "input": [
      "class Test(object):\n",
      "    def __init__(self, max_depth=20):\n",
      "        self.depth = 0\n",
      "        self.max_depth = max_depth\n",
      "        \n",
      "    def copy(self):\n",
      "        if self.depth <= self.max_depth:\n",
      "            clone = copy.deepcopy(self)\n",
      "            clone.depth += 1\n",
      "            print \"Spawning new copy at depth\", clone.depth\n",
      "            return clone\n",
      "        else:\n",
      "            return False"
     ],
     "language": "python",
     "metadata": {},
     "outputs": [],
     "prompt_number": 5
    },
    {
     "cell_type": "code",
     "collapsed": false,
     "input": [
      "t = Test()"
     ],
     "language": "python",
     "metadata": {},
     "outputs": [],
     "prompt_number": 6
    },
    {
     "cell_type": "code",
     "collapsed": false,
     "input": [
      "while t:\n",
      "    t = t.copy()"
     ],
     "language": "python",
     "metadata": {},
     "outputs": [
      {
       "output_type": "stream",
       "stream": "stdout",
       "text": [
        "Spawning new copy at depth 1\n",
        "Spawning new copy at depth 2\n",
        "Spawning new copy at depth 3\n",
        "Spawning new copy at depth 4\n",
        "Spawning new copy at depth 5\n",
        "Spawning new copy at depth 6\n",
        "Spawning new copy at depth 7\n",
        "Spawning new copy at depth 8\n",
        "Spawning new copy at depth 9\n",
        "Spawning new copy at depth 10\n",
        "Spawning new copy at depth 11\n",
        "Spawning new copy at depth 12\n",
        "Spawning new copy at depth 13\n",
        "Spawning new copy at depth 14\n",
        "Spawning new copy at depth 15\n",
        "Spawning new copy at depth 16\n",
        "Spawning new copy at depth 17\n",
        "Spawning new copy at depth 18\n",
        "Spawning new copy at depth 19\n",
        "Spawning new copy at depth 20\n",
        "Spawning new copy at depth 21\n"
       ]
      }
     ],
     "prompt_number": 7
    },
    {
     "cell_type": "code",
     "collapsed": false,
     "input": [],
     "language": "python",
     "metadata": {},
     "outputs": []
    }
   ],
   "metadata": {}
  }
 ]
}