{
 "metadata": {
  "name": "",
  "signature": "sha256:ae4ad07212964dced3a7adb1933d4d87deee771f879383747e677ab1ead44881"
 },
 "nbformat": 3,
 "nbformat_minor": 0,
 "worksheets": [
  {
   "cells": [
    {
     "cell_type": "code",
     "collapsed": false,
     "input": [
      "from TributeModel import Model\n",
      "\n",
      "import json\n",
      "import random\n",
      "\n",
      "import networkx as nx\n",
      "import matplotlib.pyplot as plt"
     ],
     "language": "python",
     "metadata": {},
     "outputs": [],
     "prompt_number": 1
    },
    {
     "cell_type": "code",
     "collapsed": false,
     "input": [
      "%matplotlib inline"
     ],
     "language": "python",
     "metadata": {},
     "outputs": [],
     "prompt_number": 2
    },
    {
     "cell_type": "code",
     "collapsed": false,
     "input": [
      "G = nx.Graph()\n",
      "G.add_edge(1,2)\n",
      "G.add_edge(2,3)\n",
      "G.add_edge(1,3)"
     ],
     "language": "python",
     "metadata": {},
     "outputs": [],
     "prompt_number": 3
    },
    {
     "cell_type": "code",
     "collapsed": false,
     "input": [
      "m = Model(G)\n",
      "m.tribute = 100\n",
      "m.verbose = True\n",
      "m.heuristic = True\n",
      "m.random_execution = False\n"
     ],
     "language": "python",
     "metadata": {},
     "outputs": [],
     "prompt_number": 5
    },
    {
     "cell_type": "code",
     "collapsed": false,
     "input": [],
     "language": "python",
     "metadata": {},
     "outputs": []
    }
   ],
   "metadata": {}
  }
 ]
}