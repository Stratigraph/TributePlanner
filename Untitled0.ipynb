{
 "metadata": {
  "name": "",
  "signature": "sha256:7e53013dcc444131e0bd11006b48fc3733b130786027e482017f935fc9631fac"
 },
 "nbformat": 3,
 "nbformat_minor": 0,
 "worksheets": []
}